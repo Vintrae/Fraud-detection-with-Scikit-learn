{
  "nbformat": 4,
  "nbformat_minor": 0,
  "metadata": {
    "colab": {
      "name": "Fraud detection with Scikit-learn.ipynb",
      "provenance": [],
      "toc_visible": true
    },
    "kernelspec": {
      "name": "python3",
      "display_name": "Python 3"
    }
  },
  "cells": [
    {
      "cell_type": "markdown",
      "metadata": {
        "id": "xU-rJmIIQEIR",
        "colab_type": "text"
      },
      "source": [
        "# Fraud detection with Scikit-learn\n",
        "\n",
        "Using Scikit-learn to detect fraudulent transactions through Logistic Regression techniques. In order to do this the dataset available [here](https://www.kaggle.com/mlg-ulb/creditcardfraud/) will be used."
      ]
    },
    {
      "cell_type": "markdown",
      "metadata": {
        "id": "P8Jgjsc6eXCX",
        "colab_type": "text"
      },
      "source": [
        "Mount drive directory to access the datasets."
      ]
    },
    {
      "cell_type": "code",
      "metadata": {
        "id": "yUV0cuDLOO1g",
        "colab_type": "code",
        "colab": {
          "base_uri": "https://localhost:8080/",
          "height": 35
        },
        "outputId": "83fe44fe-3f7a-4056-d128-e1f60ea34703"
      },
      "source": [
        "from google.colab import drive\n",
        "drive.mount('/content/drive/', force_remount=True)"
      ],
      "execution_count": 9,
      "outputs": [
        {
          "output_type": "stream",
          "text": [
            "Mounted at /content/drive/\n"
          ],
          "name": "stdout"
        }
      ]
    },
    {
      "cell_type": "markdown",
      "metadata": {
        "id": "3QN1WFUuUMKl",
        "colab_type": "text"
      },
      "source": [
        "Import the necessary libraries."
      ]
    },
    {
      "cell_type": "code",
      "metadata": {
        "id": "PoXsrRPiPwRN",
        "colab_type": "code",
        "colab": {}
      },
      "source": [
        "from sklearn import linear_model, preprocessing, metrics\n",
        "import numpy as np\n",
        "import pandas as pd\n",
        "import matplotlib.pyplot as plt\n",
        "import random"
      ],
      "execution_count": 0,
      "outputs": []
    },
    {
      "cell_type": "markdown",
      "metadata": {
        "id": "ZzmuLdapfHH_",
        "colab_type": "text"
      },
      "source": [
        "Import dataset and perform data preprocessing."
      ]
    },
    {
      "cell_type": "code",
      "metadata": {
        "id": "MCvD9REDfJg-",
        "colab_type": "code",
        "colab": {
          "base_uri": "https://localhost:8080/",
          "height": 283
        },
        "outputId": "a6136114-9f79-4d33-e6ec-dd20050bac9d"
      },
      "source": [
        "data = pd.read_csv('/content/drive/My Drive/Notebooks/Fraud_detection/data/train_transaction.csv', low_memory=False)\n",
        "\n",
        "# Visualise the data.\n",
        "plt.rcParams['text.color'] = 'gray'\n",
        "plt.rcParams['axes.labelcolor'] = 'gray'\n",
        "plt.rcParams['xtick.color'] = 'gray'\n",
        "plt.rcParams['ytick.color'] = 'gray'\n",
        "\n",
        "fraud = data.loc[data['Class'] == 1]\n",
        "legit = data.loc[data['Class'] == 0]\n",
        "ax = fraud.plot.scatter(x='Amount', y='Class', color='Orange', label='Fraud')\n",
        "legit.plot.scatter(x='Amount', y='Class', color='Blue', label='Legitimate', ax=ax)\n",
        "plt.show\n",
        "\n",
        "# Drop rows with missing values.\n",
        "data.dropna(axis=0, inplace=True)\n",
        "\n",
        "# Select features (Amount and 'V1', ..., 'V28' features) and label (Class)\n",
        "features = ['Amount'] + ['V%d' % number for number in range(1, 29)]\n",
        "label = 'Class'\n",
        "\n",
        "# Create variables containing feature data and label data.\n",
        "feature_data = data[features]\n",
        "label_data = data[label]\n",
        "\n",
        "# Normalise feature data.\n",
        "scaler = preprocessing.StandardScaler()\n",
        "feature_data = scaler.fit_transform(feature_data)"
      ],
      "execution_count": 17,
      "outputs": [
        {
          "output_type": "display_data",
          "data": {
            "image/png": "[encoded data removed]",
            "text/plain": [
              "<Figure size 432x288 with 1 Axes>"
            ]
          },
          "metadata": {
            "tags": []
          }
        }
      ]
    },
    {
      "cell_type": "markdown",
      "metadata": {
        "id": "sWzmNXw4gSc-",
        "colab_type": "text"
      },
      "source": [
        "Split into training and testing data."
      ]
    },
    {
      "cell_type": "code",
      "metadata": {
        "id": "G875RLFQgRi-",
        "colab_type": "code",
        "colab": {}
      },
      "source": [
        "# Create index for the split.\n",
        "split_index = int(data.shape[0] * 0.8)\n",
        "\n",
        "# Create training sets.\n",
        "x_train = feature_data[:split_index]\n",
        "y_train = label_data[:split_index]\n",
        "\n",
        "# Create testing sets.\n",
        "x_test = feature_data[split_index:]\n",
        "y_test = label_data[split_index:]\n"
      ],
      "execution_count": 0,
      "outputs": []
    },
    {
      "cell_type": "markdown",
      "metadata": {
        "id": "uujNDJ5dz-6Q",
        "colab_type": "text"
      },
      "source": [
        "Create Logistic Regression model."
      ]
    },
    {
      "cell_type": "code",
      "metadata": {
        "id": "KZzO9YH3z_9n",
        "colab_type": "code",
        "colab": {
          "base_uri": "https://localhost:8080/",
          "height": 310
        },
        "outputId": "29a87670-7830-47c7-e568-3351bb31181a"
      },
      "source": [
        "model = linear_model.LogisticRegression()\n",
        "model.fit(x_train, y_train)\n",
        "\n",
        "y_pred = model.predict(x_test)\n",
        "    \n",
        "# And finally: show the results\n",
        "print(metrics.classification_report(y_test, y_pred))\n",
        "print('Mean Absolute Error:', metrics.mean_absolute_error(y_test, y_pred))  \n",
        "print('Mean Squared Error:', metrics.mean_squared_error(y_test, y_pred))  \n",
        "print('Root Mean Squared Error:', np.sqrt(metrics.mean_squared_error(y_test, y_pred)))\n",
        "print()"
      ],
      "execution_count": 13,
      "outputs": [
        {
          "output_type": "stream",
          "text": [
            "/usr/local/lib/python3.6/dist-packages/sklearn/linear_model/logistic.py:432: FutureWarning: Default solver will be changed to 'lbfgs' in 0.22. Specify a solver to silence this warning.\n",
            "  FutureWarning)\n"
          ],
          "name": "stderr"
        },
        {
          "output_type": "stream",
          "text": [
            "              precision    recall  f1-score   support\n",
            "\n",
            "           0       1.00      1.00      1.00     56887\n",
            "           1       0.91      0.56      0.69        75\n",
            "\n",
            "    accuracy                           1.00     56962\n",
            "   macro avg       0.96      0.78      0.85     56962\n",
            "weighted avg       1.00      1.00      1.00     56962\n",
            "\n",
            "Mean Absolute Error: 0.0006495558442470419\n",
            "Mean Squared Error: 0.0006495558442470419\n",
            "Root Mean Squared Error: 0.025486385468462214\n",
            "\n"
          ],
          "name": "stdout"
        }
      ]
    }
  ]
}